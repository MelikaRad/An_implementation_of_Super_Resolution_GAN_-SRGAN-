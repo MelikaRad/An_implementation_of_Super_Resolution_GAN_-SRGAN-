{
 "cells": [
  {
   "cell_type": "code",
   "execution_count": 2,
   "id": "185d5a53",
   "metadata": {},
   "outputs": [],
   "source": [
    "import torch\n",
    "from torch import nn\n",
    "\n",
    "class ConvBlock(nn.Module):\n",
    "    # conv -> bn -> leaky relu\n",
    "    pass\n",
    "\n",
    "class UpsampleBlock(nn.Module):\n",
    "    pass\n",
    "\n",
    "class Generator(nn.Module):\n",
    "    pass\n",
    "\n",
    "class Discriminator(nn.Module):\n",
    "    pass"
   ]
  },
  {
   "cell_type": "code",
   "execution_count": null,
   "id": "7f34a79d",
   "metadata": {},
   "outputs": [],
   "source": []
  }
 ],
 "metadata": {
  "kernelspec": {
   "display_name": "Python 3 (ipykernel)",
   "language": "python",
   "name": "python3"
  },
  "language_info": {
   "codemirror_mode": {
    "name": "ipython",
    "version": 3
   },
   "file_extension": ".py",
   "mimetype": "text/x-python",
   "name": "python",
   "nbconvert_exporter": "python",
   "pygments_lexer": "ipython3",
   "version": "3.10.8"
  }
 },
 "nbformat": 4,
 "nbformat_minor": 5
}
